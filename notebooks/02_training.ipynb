{
 "cells": [
  {
   "cell_type": "code",
   "execution_count": 1,
   "id": "86f4ab17-6fba-4bd8-be4e-e466c64b4528",
   "metadata": {},
   "outputs": [],
   "source": [
    "import os\n",
    "import sys\n",
    "sys.path.append(os.path.abspath(os.path.join(os.getcwd(), \"..\")))\n",
    "import torch\n",
    "from src.dataset import get_dataloaders\n",
    "from src.model import get_model\n",
    "from src.train import train"
   ]
  },
  {
   "cell_type": "code",
   "execution_count": 2,
   "id": "101fc1ac-1ca6-4891-a203-6e2281742370",
   "metadata": {},
   "outputs": [
    {
     "name": "stdout",
     "output_type": "stream",
     "text": [
      "Using device: cpu\n"
     ]
    }
   ],
   "source": [
    "device = torch.device(\"cuda\" if torch.cuda.is_available() else \"cpu\")\n",
    "print(\"Using device:\", device)"
   ]
  },
  {
   "cell_type": "code",
   "execution_count": 3,
   "id": "9a702c30-6a15-4003-946c-87118d23cc41",
   "metadata": {},
   "outputs": [],
   "source": [
    "train_loader, val_loader, test_loader, class_names = get_dataloaders(batch_size=64)"
   ]
  },
  {
   "cell_type": "code",
   "execution_count": 4,
   "id": "ac9e8555-1730-452d-80c1-b29768b9f833",
   "metadata": {},
   "outputs": [],
   "source": [
    "model = get_model(num_classes=len(class_names))"
   ]
  },
  {
   "cell_type": "code",
   "execution_count": 5,
   "id": "42a5c3f0-949c-4c77-b15f-140833522caf",
   "metadata": {},
   "outputs": [
    {
     "name": "stderr",
     "output_type": "stream",
     "text": [
      "Epoch 1/10: 100%|████████| 704/704 [03:59<00:00,  2.94it/s, acc=55.5, loss=1.52]\n"
     ]
    },
    {
     "name": "stdout",
     "output_type": "stream",
     "text": [
      "\n",
      "Validation Accuracy: 57.28%\n",
      "\n",
      "Saved best model to /Users/ashwinb/Desktop/GitFolio/Image-Classifier/outputs/model.pth\n"
     ]
    },
    {
     "name": "stderr",
     "output_type": "stream",
     "text": [
      "Epoch 2/10: 100%|█████████| 704/704 [04:13<00:00,  2.78it/s, acc=65.9, loss=1.3]\n"
     ]
    },
    {
     "name": "stdout",
     "output_type": "stream",
     "text": [
      "\n",
      "Validation Accuracy: 68.96%\n",
      "\n",
      "Saved best model to /Users/ashwinb/Desktop/GitFolio/Image-Classifier/outputs/model.pth\n"
     ]
    },
    {
     "name": "stderr",
     "output_type": "stream",
     "text": [
      "Epoch 3/10: 100%|████████| 704/704 [04:15<00:00,  2.76it/s, acc=70.4, loss=1.19]\n"
     ]
    },
    {
     "name": "stdout",
     "output_type": "stream",
     "text": [
      "\n",
      "Validation Accuracy: 70.68%\n",
      "\n",
      "Saved best model to /Users/ashwinb/Desktop/GitFolio/Image-Classifier/outputs/model.pth\n"
     ]
    },
    {
     "name": "stderr",
     "output_type": "stream",
     "text": [
      "Epoch 4/10: 100%|████████| 704/704 [04:18<00:00,  2.73it/s, acc=72.8, loss=1.13]\n"
     ]
    },
    {
     "name": "stdout",
     "output_type": "stream",
     "text": [
      "\n",
      "Validation Accuracy: 72.18%\n",
      "\n",
      "Saved best model to /Users/ashwinb/Desktop/GitFolio/Image-Classifier/outputs/model.pth\n"
     ]
    },
    {
     "name": "stderr",
     "output_type": "stream",
     "text": [
      "Epoch 5/10: 100%|████████| 704/704 [04:20<00:00,  2.70it/s, acc=75.2, loss=1.08]\n"
     ]
    },
    {
     "name": "stdout",
     "output_type": "stream",
     "text": [
      "\n",
      "Validation Accuracy: 75.00%\n",
      "\n",
      "Saved best model to /Users/ashwinb/Desktop/GitFolio/Image-Classifier/outputs/model.pth\n"
     ]
    },
    {
     "name": "stderr",
     "output_type": "stream",
     "text": [
      "Epoch 6/10: 100%|████████| 704/704 [04:20<00:00,  2.70it/s, acc=77.5, loss=1.02]\n"
     ]
    },
    {
     "name": "stdout",
     "output_type": "stream",
     "text": [
      "\n",
      "Validation Accuracy: 75.94%\n",
      "\n",
      "Saved best model to /Users/ashwinb/Desktop/GitFolio/Image-Classifier/outputs/model.pth\n"
     ]
    },
    {
     "name": "stderr",
     "output_type": "stream",
     "text": [
      "Epoch 7/10: 100%|███████| 704/704 [04:21<00:00,  2.69it/s, acc=79.7, loss=0.976]\n"
     ]
    },
    {
     "name": "stdout",
     "output_type": "stream",
     "text": [
      "\n",
      "Validation Accuracy: 78.88%\n",
      "\n",
      "Saved best model to /Users/ashwinb/Desktop/GitFolio/Image-Classifier/outputs/model.pth\n"
     ]
    },
    {
     "name": "stderr",
     "output_type": "stream",
     "text": [
      "Epoch 8/10: 100%|███████| 704/704 [04:22<00:00,  2.68it/s, acc=81.2, loss=0.937]\n"
     ]
    },
    {
     "name": "stdout",
     "output_type": "stream",
     "text": [
      "\n",
      "Validation Accuracy: 79.26%\n",
      "\n",
      "Saved best model to /Users/ashwinb/Desktop/GitFolio/Image-Classifier/outputs/model.pth\n"
     ]
    },
    {
     "name": "stderr",
     "output_type": "stream",
     "text": [
      "Epoch 9/10: 100%|███████| 704/704 [04:20<00:00,  2.70it/s, acc=83.1, loss=0.898]\n"
     ]
    },
    {
     "name": "stdout",
     "output_type": "stream",
     "text": [
      "\n",
      "Validation Accuracy: 80.42%\n",
      "\n",
      "Saved best model to /Users/ashwinb/Desktop/GitFolio/Image-Classifier/outputs/model.pth\n"
     ]
    },
    {
     "name": "stderr",
     "output_type": "stream",
     "text": [
      "Epoch 10/10: 100%|██████| 704/704 [04:31<00:00,  2.59it/s, acc=83.8, loss=0.882]\n"
     ]
    },
    {
     "name": "stdout",
     "output_type": "stream",
     "text": [
      "\n",
      "Validation Accuracy: 81.08%\n",
      "\n",
      "Saved best model to /Users/ashwinb/Desktop/GitFolio/Image-Classifier/outputs/model.pth\n",
      "Best Validation Accuracy: 81.08%\n"
     ]
    }
   ],
   "source": [
    "project_root = os.path.abspath(os.path.join(os.getcwd(), \"..\"))\n",
    "save_path = os.path.join(project_root, \"outputs\", \"model.pth\")\n",
    "                               \n",
    "train(model,\n",
    "      train_loader,\n",
    "      val_loader,\n",
    "      num_epochs=10,\n",
    "      lr=1e-3,\n",
    "      device=device,\n",
    "      save_path = save_path)\n",
    "      "
   ]
  }
 ],
 "metadata": {
  "kernelspec": {
   "display_name": "Python 3 (ipykernel)",
   "language": "python",
   "name": "python3"
  },
  "language_info": {
   "codemirror_mode": {
    "name": "ipython",
    "version": 3
   },
   "file_extension": ".py",
   "mimetype": "text/x-python",
   "name": "python",
   "nbconvert_exporter": "python",
   "pygments_lexer": "ipython3",
   "version": "3.12.2"
  }
 },
 "nbformat": 4,
 "nbformat_minor": 5
}
